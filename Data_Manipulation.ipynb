{
 "cells": [
  {
   "cell_type": "markdown",
   "metadata": {},
   "source": [
    "# Instructions\n",
    "\n",
    "This program is designed to be used in tandem with GEE_data_generation. It will combine all of the resultant csv files, drop the unnecessary columns, and sort the rows. Using this notebook is slightly more complicated than the previous one. There are a few parameters that you can change.\n",
    "* Setting `REMOVE_CSV` to True will remove all of the .csv files in the working directory (except the one this program generates)\n",
    "* Setting `TITLE_CASE` to True will make sure each column header is capitalized.\n",
    "* `CSV_NAME` is what the processed csv will be called.\n",
    "\n",
    "**RUN EVERY CELL ONE AT A TIME.** If you do not, you risk missing the second user variable section.\n",
    "In the second user variable section you may specify what columns to keep and which columns to use as sort keys.\n",
    "* `DESIRED_COLUMNS` should be a square-bracketed list with the column names exactly as they appear in the table as a string. The order you specify in this list will be the final order in the exported csv file.\n",
    "* The list `SORT_KEYS` represents the keys by which this program will sort the DataFrame. If you want to sort by either year or month, the appropriate name is 'Date' as opposed to year or month. The order you specify in this list determines the sort order.\n",
    "    * Putting 'DHSCLUST' before 'Date' will result in all of the DHSCLUST=1 sorted by date before the first DHSCLUST=2 appears\n",
    "    * Putting 'Date' before 'DHSCLUST' will result in a table where all of the clusters are sorted by date. If the first input month is 4-2014, the exported csv file will have DHSCLUST=1 at 4-2014 then DHSCLUST=2 at 4-2014 and so on.\n"
   ]
  },
  {
   "cell_type": "markdown",
   "metadata": {},
   "source": [
    "## User Variables (pt. 1)"
   ]
  },
  {
   "cell_type": "code",
   "execution_count": 1,
   "metadata": {},
   "outputs": [],
   "source": [
    "REMOVE_CSV = True\n",
    "TITLE_CASE = True\n",
    "CSV_NAME = 'lst_tanzania.csv'"
   ]
  },
  {
   "cell_type": "markdown",
   "metadata": {},
   "source": [
    "# Initial Setup"
   ]
  },
  {
   "cell_type": "code",
   "execution_count": 2,
   "metadata": {},
   "outputs": [],
   "source": [
    "# Dependancies\n",
    "import pandas as pd\n",
    "import os\n",
    "from functools import reduce\n",
    "\n",
    "# Map functions\n",
    "def combine_df(master, to_be_combined):\n",
    "    return pd.concat([master, to_be_combined], axis=0)  \n",
    "\n",
    "def get_column_loc(name):\n",
    "    col = master_df.columns\n",
    "    return col.get_loc(name)\n",
    "\n",
    "# modify CSV_NAME if needed\n",
    "if '.csv' not in CSV_NAME: CSV_NAME += '.csv'"
   ]
  },
  {
   "cell_type": "markdown",
   "metadata": {},
   "source": [
    "## Combine CSV and Print Column Names"
   ]
  },
  {
   "cell_type": "code",
   "execution_count": 3,
   "metadata": {},
   "outputs": [
    {
     "name": "stdout",
     "output_type": "stream",
     "text": [
      "Unnamed: 0\n",
      "Mean\n",
      "ADM1FIPS\n",
      "ADM1NAME\n",
      "CCFIPS\n",
      "ALT_GPS\n",
      "ADM1SALBNA\n",
      "DHSREGCO\n",
      "ALT_DEM\n",
      "DHSID\n",
      "LATNUM\n",
      "DHSREGNA\n",
      "DHSCC\n",
      "ADM1SALBCO\n",
      "DATUM\n",
      "DHSYEAR\n",
      "URBAN_RURA\n",
      "DHSCLUST\n",
      "SOURCE\n",
      "ADM1DHS\n",
      "ADM1FIPSNA\n",
      "System:Index\n",
      "LONGNUM\n",
      "Month\n"
     ]
    },
    {
     "data": {
      "text/html": [
       "<div>\n",
       "<style scoped>\n",
       "    .dataframe tbody tr th:only-of-type {\n",
       "        vertical-align: middle;\n",
       "    }\n",
       "\n",
       "    .dataframe tbody tr th {\n",
       "        vertical-align: top;\n",
       "    }\n",
       "\n",
       "    .dataframe thead th {\n",
       "        text-align: right;\n",
       "    }\n",
       "</style>\n",
       "<table border=\"1\" class=\"dataframe\">\n",
       "  <thead>\n",
       "    <tr style=\"text-align: right;\">\n",
       "      <th></th>\n",
       "      <th>Unnamed: 0</th>\n",
       "      <th>Mean</th>\n",
       "      <th>ADM1FIPS</th>\n",
       "      <th>ADM1NAME</th>\n",
       "      <th>CCFIPS</th>\n",
       "      <th>ALT_GPS</th>\n",
       "      <th>ADM1SALBNA</th>\n",
       "      <th>DHSREGCO</th>\n",
       "      <th>ALT_DEM</th>\n",
       "      <th>DHSID</th>\n",
       "      <th>...</th>\n",
       "      <th>DATUM</th>\n",
       "      <th>DHSYEAR</th>\n",
       "      <th>URBAN_RURA</th>\n",
       "      <th>DHSCLUST</th>\n",
       "      <th>SOURCE</th>\n",
       "      <th>ADM1DHS</th>\n",
       "      <th>ADM1FIPSNA</th>\n",
       "      <th>System:Index</th>\n",
       "      <th>LONGNUM</th>\n",
       "      <th>Month</th>\n",
       "    </tr>\n",
       "  </thead>\n",
       "  <tbody>\n",
       "    <tr>\n",
       "      <th>0</th>\n",
       "      <td>0</td>\n",
       "      <td>308.708394</td>\n",
       "      <td>TZ01</td>\n",
       "      <td>Arusha</td>\n",
       "      <td>TZ</td>\n",
       "      <td>9999.0</td>\n",
       "      <td>NaN</td>\n",
       "      <td>2.0</td>\n",
       "      <td>1075.0</td>\n",
       "      <td>TZ201500000022</td>\n",
       "      <td>...</td>\n",
       "      <td>WGS84</td>\n",
       "      <td>2015.0</td>\n",
       "      <td>R</td>\n",
       "      <td>22.0</td>\n",
       "      <td>GPS</td>\n",
       "      <td>2.0</td>\n",
       "      <td>Arusha</td>\n",
       "      <td>00000000000000000015</td>\n",
       "      <td>36.099699</td>\n",
       "      <td>1-2015</td>\n",
       "    </tr>\n",
       "    <tr>\n",
       "      <th>1</th>\n",
       "      <td>1</td>\n",
       "      <td>309.023312</td>\n",
       "      <td>TZ01</td>\n",
       "      <td>Arusha</td>\n",
       "      <td>TZ</td>\n",
       "      <td>9999.0</td>\n",
       "      <td>NaN</td>\n",
       "      <td>2.0</td>\n",
       "      <td>1235.0</td>\n",
       "      <td>TZ201500000023</td>\n",
       "      <td>...</td>\n",
       "      <td>WGS84</td>\n",
       "      <td>2015.0</td>\n",
       "      <td>R</td>\n",
       "      <td>23.0</td>\n",
       "      <td>GPS</td>\n",
       "      <td>2.0</td>\n",
       "      <td>Arusha</td>\n",
       "      <td>00000000000000000016</td>\n",
       "      <td>36.987484</td>\n",
       "      <td>1-2015</td>\n",
       "    </tr>\n",
       "    <tr>\n",
       "      <th>2</th>\n",
       "      <td>2</td>\n",
       "      <td>316.873613</td>\n",
       "      <td>TZ01</td>\n",
       "      <td>Arusha</td>\n",
       "      <td>TZ</td>\n",
       "      <td>9999.0</td>\n",
       "      <td>NaN</td>\n",
       "      <td>2.0</td>\n",
       "      <td>956.0</td>\n",
       "      <td>TZ201500000024</td>\n",
       "      <td>...</td>\n",
       "      <td>WGS84</td>\n",
       "      <td>2015.0</td>\n",
       "      <td>R</td>\n",
       "      <td>24.0</td>\n",
       "      <td>GPS</td>\n",
       "      <td>2.0</td>\n",
       "      <td>Arusha</td>\n",
       "      <td>00000000000000000017</td>\n",
       "      <td>37.019346</td>\n",
       "      <td>1-2015</td>\n",
       "    </tr>\n",
       "    <tr>\n",
       "      <th>3</th>\n",
       "      <td>3</td>\n",
       "      <td>305.961139</td>\n",
       "      <td>TZ01</td>\n",
       "      <td>Arusha</td>\n",
       "      <td>TZ</td>\n",
       "      <td>9999.0</td>\n",
       "      <td>NaN</td>\n",
       "      <td>2.0</td>\n",
       "      <td>1261.0</td>\n",
       "      <td>TZ201500000025</td>\n",
       "      <td>...</td>\n",
       "      <td>WGS84</td>\n",
       "      <td>2015.0</td>\n",
       "      <td>R</td>\n",
       "      <td>25.0</td>\n",
       "      <td>GPS</td>\n",
       "      <td>2.0</td>\n",
       "      <td>Arusha</td>\n",
       "      <td>00000000000000000018</td>\n",
       "      <td>36.788138</td>\n",
       "      <td>1-2015</td>\n",
       "    </tr>\n",
       "    <tr>\n",
       "      <th>4</th>\n",
       "      <td>4</td>\n",
       "      <td>306.204593</td>\n",
       "      <td>TZ01</td>\n",
       "      <td>Arusha</td>\n",
       "      <td>TZ</td>\n",
       "      <td>9999.0</td>\n",
       "      <td>NaN</td>\n",
       "      <td>2.0</td>\n",
       "      <td>1475.0</td>\n",
       "      <td>TZ201500000031</td>\n",
       "      <td>...</td>\n",
       "      <td>WGS84</td>\n",
       "      <td>2015.0</td>\n",
       "      <td>R</td>\n",
       "      <td>31.0</td>\n",
       "      <td>GPS</td>\n",
       "      <td>2.0</td>\n",
       "      <td>Arusha</td>\n",
       "      <td>0000000000000000001e</td>\n",
       "      <td>35.657031</td>\n",
       "      <td>1-2015</td>\n",
       "    </tr>\n",
       "  </tbody>\n",
       "</table>\n",
       "<p>5 rows × 24 columns</p>\n",
       "</div>"
      ],
      "text/plain": [
       "   Unnamed: 0        Mean ADM1FIPS ADM1NAME CCFIPS  ALT_GPS  ADM1SALBNA  \\\n",
       "0           0  308.708394     TZ01   Arusha     TZ   9999.0         NaN   \n",
       "1           1  309.023312     TZ01   Arusha     TZ   9999.0         NaN   \n",
       "2           2  316.873613     TZ01   Arusha     TZ   9999.0         NaN   \n",
       "3           3  305.961139     TZ01   Arusha     TZ   9999.0         NaN   \n",
       "4           4  306.204593     TZ01   Arusha     TZ   9999.0         NaN   \n",
       "\n",
       "   DHSREGCO  ALT_DEM           DHSID  ...  DATUM DHSYEAR URBAN_RURA  DHSCLUST  \\\n",
       "0       2.0   1075.0  TZ201500000022  ...  WGS84  2015.0          R      22.0   \n",
       "1       2.0   1235.0  TZ201500000023  ...  WGS84  2015.0          R      23.0   \n",
       "2       2.0    956.0  TZ201500000024  ...  WGS84  2015.0          R      24.0   \n",
       "3       2.0   1261.0  TZ201500000025  ...  WGS84  2015.0          R      25.0   \n",
       "4       2.0   1475.0  TZ201500000031  ...  WGS84  2015.0          R      31.0   \n",
       "\n",
       "  SOURCE  ADM1DHS ADM1FIPSNA          System:Index    LONGNUM   Month  \n",
       "0    GPS      2.0     Arusha  00000000000000000015  36.099699  1-2015  \n",
       "1    GPS      2.0     Arusha  00000000000000000016  36.987484  1-2015  \n",
       "2    GPS      2.0     Arusha  00000000000000000017  37.019346  1-2015  \n",
       "3    GPS      2.0     Arusha  00000000000000000018  36.788138  1-2015  \n",
       "4    GPS      2.0     Arusha  0000000000000000001e  35.657031  1-2015  \n",
       "\n",
       "[5 rows x 24 columns]"
      ]
     },
     "execution_count": 3,
     "metadata": {},
     "output_type": "execute_result"
    }
   ],
   "source": [
    "# make a list of all .csv files in the working directory\n",
    "os.system('ls *.csv > csv_names.txt')\n",
    "with open('csv_names.txt', 'r') as fp:\n",
    "    names = fp.read()\n",
    "name_list = names.split('\\n')\n",
    "name_list.pop()\n",
    "\n",
    "\n",
    "# turn the list of .csv files into a list of Panda DataFrames and combine\n",
    "df_list = map(lambda csv: pd.read_csv(csv), name_list)\n",
    "master_df = reduce(combine_df, df_list)\n",
    "\n",
    "# capitalize column names if desired\n",
    "if TITLE_CASE:\n",
    "    new_columns = {}\n",
    "    for column in master_df.columns:\n",
    "        if column[0] != column.upper()[0]:\n",
    "            new_columns[column] = column.title()\n",
    "        else: new_columns[column] = column\n",
    "    master_df.rename(columns=new_columns, inplace=True)\n",
    "\n",
    "# print out the column names and the top 5 rows of the master DataFrame\n",
    "for column in master_df.columns:\n",
    "    print (column)\n",
    "master_df.head()"
   ]
  },
  {
   "cell_type": "markdown",
   "metadata": {},
   "source": [
    "## User Variables (pt. 2)"
   ]
  },
  {
   "cell_type": "code",
   "execution_count": 4,
   "metadata": {},
   "outputs": [],
   "source": [
    "# specify the desired columns\n",
    "DESIRED_COLUMNS = ['ADM1NAME', 'DHSCLUST', 'Month', 'Mean']\n",
    "\n",
    "# keys by which to sort\n",
    "SORT_KEYS = ['DHSCLUST', 'Date']"
   ]
  },
  {
   "cell_type": "markdown",
   "metadata": {},
   "source": [
    "## Process DataFrame"
   ]
  },
  {
   "cell_type": "code",
   "execution_count": 5,
   "metadata": {},
   "outputs": [],
   "source": [
    "# drop the irrelevant columns\n",
    "for column in master_df.columns:\n",
    "    if column not in DESIRED_COLUMNS:\n",
    "        master_df.drop(column, inplace=True, axis=1)\n",
    "\n",
    "# re-order the relevant ones\n",
    "column_order = list(map(get_column_loc, DESIRED_COLUMNS))\n",
    "current_order = master_df.columns.tolist()\n",
    "final_order = [current_order[i] for i in column_order]\n",
    "master_df = master_df[final_order]\n",
    "\n",
    "# sort DataFrame\n",
    "master_df['Date'] = pd.to_datetime(master_df.Month)\n",
    "master_df.sort_values(by=SORT_KEYS, ignore_index=True, inplace=True)\n",
    "master_df.drop('Date', inplace=True, axis=1)\n",
    "\n",
    "# export to csv\n",
    "master_df.to_csv(CSV_NAME, index=False)"
   ]
  },
  {
   "cell_type": "markdown",
   "metadata": {},
   "source": [
    "## Clean up Working Directory"
   ]
  },
  {
   "cell_type": "code",
   "execution_count": 6,
   "metadata": {},
   "outputs": [
    {
     "data": {
      "text/plain": [
       "0"
      ]
     },
     "execution_count": 6,
     "metadata": {},
     "output_type": "execute_result"
    }
   ],
   "source": [
    "if REMOVE_CSV:\n",
    "    for i in name_list:\n",
    "        os.system('rm ' + i)\n",
    "os.system('rm csv_names.txt')"
   ]
  },
  {
   "cell_type": "markdown",
   "metadata": {},
   "source": [
    "# Credits"
   ]
  },
  {
   "cell_type": "markdown",
   "metadata": {},
   "source": [
    "* Created by Caleb Bitting"
   ]
  }
 ],
 "metadata": {
  "kernelspec": {
   "display_name": "Python 3",
   "language": "python",
   "name": "python3"
  },
  "language_info": {
   "codemirror_mode": {
    "name": "ipython",
    "version": 3
   },
   "file_extension": ".py",
   "mimetype": "text/x-python",
   "name": "python",
   "nbconvert_exporter": "python",
   "pygments_lexer": "ipython3",
   "version": "3.8.3"
  }
 },
 "nbformat": 4,
 "nbformat_minor": 4
}
