{
 "cells": [
  {
   "cell_type": "code",
   "execution_count": 1,
   "metadata": {},
   "outputs": [],
   "source": [
    "# import tree cover data\n",
    "# select the loss band\n",
    "# select gain band\n",
    "# sum pixels\n",
    "# convert pixel into area\n",
    "# print out the numbers"
   ]
  },
  {
   "cell_type": "code",
   "execution_count": 11,
   "metadata": {},
   "outputs": [],
   "source": [
    "import ee\n",
    "import geemap\n",
    "\n",
    "ee.Initialize()\n",
    "\n",
    "Map = geemap.Map()"
   ]
  },
  {
   "cell_type": "code",
   "execution_count": 18,
   "metadata": {},
   "outputs": [
    {
     "name": "stdout",
     "output_type": "stream",
     "text": [
      "{'loss': 482920.0784313724}\n"
     ]
    }
   ],
   "source": [
    "raw_countries = ee.FeatureCollection('users/ccbitt23/testDHS')     # replace with some variable\n",
    "\n",
    "countries = raw_countries.map(lambda point: point.buffer(10_000))\n",
    "\n",
    "gfc2014 = ee.Image('UMD/hansen/global_forest_change_2015')     # also replace with variable\n",
    "forest_loss = gfc2014.select('loss')\n",
    "\n",
    "Map.addLayer(forest_loss.updateMask(forest_loss), {'palette':'FF00FF'}, name='Gain and Loss');\n",
    "\n",
    "\n",
    "raw_forest_stats = forest_loss.reduceRegion(\n",
    "  reducer=ee.Reducer.sum(),\n",
    "  geometry=countries,\n",
    "  scale=30,\n",
    "  maxPixels=1e9)\n",
    "\n",
    "forest_stats = raw_forest_stats.getInfo()\n",
    "print(forest_stats)"
   ]
  }
 ],
 "metadata": {
  "kernelspec": {
   "display_name": "Python 3",
   "language": "python",
   "name": "python3"
  },
  "language_info": {
   "codemirror_mode": {
    "name": "ipython",
    "version": 3
   },
   "file_extension": ".py",
   "mimetype": "text/x-python",
   "name": "python",
   "nbconvert_exporter": "python",
   "pygments_lexer": "ipython3",
   "version": "3.8.3"
  }
 },
 "nbformat": 4,
 "nbformat_minor": 4
}
