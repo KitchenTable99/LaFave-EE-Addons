{
 "cells": [
  {
   "cell_type": "code",
   "execution_count": null,
   "metadata": {},
   "outputs": [],
   "source": [
    "# dependencies\n",
    "import ee\n",
    "import geemap\n",
    "\n",
    "ee.Initialize()\n",
    "Map = geemap.Map()"
   ]
  },
  {
   "cell_type": "code",
   "execution_count": null,
   "metadata": {},
   "outputs": [],
   "source": [
    "# import image and FeatureCollection\n",
    "raw_countries = ee.FeatureCollection('users/ccbitt23/testDHS')\n",
    "countries = raw_countries.map(lambda point: point.buffer(10_000))   # expand the points\n",
    "gfc2019 = ee.Image('UMD/hansen/global_forest_change_2019_v1_7')\n",
    "\n",
    "#select bands\n",
    "forest_loss = gfc2019.select('loss').multiply(ee.Image.pixelArea()) # in square meters\n",
    "loss_year = gfc2019.select('lossyear')\n",
    "big_band = forest_loss.addBands(loss_year)\n",
    "\n",
    "# calculate numbers\n",
    "forest_stats = big_band.reduceRegion(\n",
    "  reducer=ee.Reducer.sum().group(groupField=1, groupName='Year'),   # sum the loss band and group by lossyear \n",
    "  geometry=countries,\n",
    "  scale=30,\n",
    "  maxPixels=1e9)\n",
    "\n",
    "client_forest_stats = forest_stats.getInfo()                        # create client object "
   ]
  },
  {
   "cell_type": "code",
   "execution_count": null,
   "metadata": {},
   "outputs": [],
   "source": [
    "# process the data from GEE into an end product\n",
    "unpacked = client_forest_stats.get('groups')\n",
    "desired_year = 2006\n",
    "desired_index = desired_year - 2001\n",
    "area_loss = unpacked[desired_index].get('sum')\n",
    "\n",
    "# print out the output\n",
    "print(f'The rounded area of forest loss in {desired_year} was {round(area_loss):,} square meters.')\n",
    "print(f'That\\'s {round(area_loss/1e6):,} square kilometers.')"
   ]
  }
 ],
 "metadata": {
  "kernelspec": {
   "display_name": "Python 3",
   "language": "python",
   "name": "python3"
  },
  "language_info": {
   "codemirror_mode": {
    "name": "ipython",
    "version": 3
   },
   "file_extension": ".py",
   "mimetype": "text/x-python",
   "name": "python",
   "nbconvert_exporter": "python",
   "pygments_lexer": "ipython3",
   "version": "3.8.3"
  }
 },
 "nbformat": 4,
 "nbformat_minor": 4
}
