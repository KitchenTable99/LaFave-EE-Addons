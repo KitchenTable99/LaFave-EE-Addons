{
 "cells": [
  {
   "cell_type": "markdown",
   "metadata": {},
   "source": [
    "# Instructions\n",
    "\n",
    "This program is designed to be used in tandem with GEE_data_generation. It will combine all of the resultant csv files, drop the unnecessary columns, and sort the rows. Using this notebook is slightly more complicated than the previous one. There are a few parameters that you can change.\n",
    "* Setting `REMOVE_CSV` to True will remove all of the .csv files in the working directory (except the one this program generates)\n",
    "* Setting `TITLE_CASE` to True will make sure each column header is capitalized.\n",
    "* `CSV_NAME` is what the processed csv will be called.\n",
    "\n",
    "**RUN EVERY CELL ONE AT A TIME.** If you do not, you risk missing the second user variable section.\n",
    "In the second user variable section you may specify what columns to keep and which columns to use as sort keys.\n",
    "* `DESIRED_COLUMNS` should be a square-bracketed list with the column names exactly as they appear in the table as a string. The order you specify in this list will be the final order in the exported csv file.\n",
    "* The list `SORT_KEYS` represents the keys by which this program will sort the DataFrame. If you want to sort by either year or month, the appropriate name is 'Date' as opposed to year or month. The order you specify in this list determines the sort order.\n",
    "    * Putting 'DHSCLUST' before 'Date' will result in all of the DHSCLUST=1 sorted by date before the first DHSCLUST=2 appears\n",
    "    * Putting 'Date' before 'DHSCLUST' will result in a table where all of the clusters are sorted by date. If the first input month is 4-2014, the exported csv file will have DHSCLUST=1 at 4-2014 then DHSCLUST=2 at 4-2014 and so on.\n"
   ]
  },
  {
   "cell_type": "markdown",
   "metadata": {},
   "source": [
    "## User Variables (pt. 1)"
   ]
  },
  {
   "cell_type": "code",
   "execution_count": null,
   "metadata": {},
   "outputs": [],
   "source": [
    "REMOVE_CSV = True\n",
    "TITLE_CASE = True\n",
    "CSV_NAME = 'final_data.csv'"
   ]
  },
  {
   "cell_type": "markdown",
   "metadata": {},
   "source": [
    "# Initial Setup"
   ]
  },
  {
   "cell_type": "code",
   "execution_count": null,
   "metadata": {},
   "outputs": [],
   "source": [
    "# Dependancies\n",
    "import pandas as pd\n",
    "import os\n",
    "from functools import reduce\n",
    "\n",
    "# Map functions\n",
    "def combine_df(master, to_be_combined):\n",
    "    return pd.concat([master, to_be_combined], axis=0)  \n",
    "\n",
    "def get_column_loc(name):\n",
    "    col = master_df.columns\n",
    "    return col.get_loc(name)\n",
    "\n",
    "# modify CSV_NAME if needed\n",
    "if '.csv' not in CSV_NAME: CSV_NAME += '.csv'"
   ]
  },
  {
   "cell_type": "markdown",
   "metadata": {},
   "source": [
    "## Combine CSV and Print Column Names"
   ]
  },
  {
   "cell_type": "code",
   "execution_count": null,
   "metadata": {},
   "outputs": [],
   "source": [
    "# make a list of all .csv files in the working directory\n",
    "os.system('ls *.csv > csv_names.txt')\n",
    "with open('csv_names.txt', 'r') as fp:\n",
    "    names = fp.read()\n",
    "name_list = names.split('\\n')\n",
    "name_list.pop()\n",
    "\n",
    "\n",
    "# turn the list of .csv files into a list of Panda DataFrames and combine\n",
    "df_list = map(lambda csv: pd.read_csv(csv), name_list)\n",
    "master_df = reduce(combine_df, df_list)\n",
    "\n",
    "# capitalize column names if desired\n",
    "if TITLE_CASE:\n",
    "    new_columns = {}\n",
    "    for column in master_df.columns:\n",
    "        if column[0] != column.upper()[0]:\n",
    "            new_columns[column] = column.title()\n",
    "        else: new_columns[column] = column\n",
    "    master_df.rename(columns=new_columns, inplace=True)\n",
    "\n",
    "# print out the column names and the top 5 rows of the master DataFrame\n",
    "for column in master_df.columns:\n",
    "    print (column)\n",
    "master_df.head()"
   ]
  },
  {
   "cell_type": "markdown",
   "metadata": {},
   "source": [
    "## User Variables (pt. 2)"
   ]
  },
  {
   "cell_type": "code",
   "execution_count": null,
   "metadata": {},
   "outputs": [],
   "source": [
    "# specify the desired columns\n",
    "DESIRED_COLUMNS = ['Locationid', 'Month', 'Mean']\n",
    "\n",
    "# keys by which to sort\n",
    "SORT_KEYS = ['Locationid', 'Date']"
   ]
  },
  {
   "cell_type": "markdown",
   "metadata": {},
   "source": [
    "## Process DataFrame"
   ]
  },
  {
   "cell_type": "code",
   "execution_count": null,
   "metadata": {},
   "outputs": [],
   "source": [
    "# drop the irrelevant columns\n",
    "for column in master_df.columns:\n",
    "    if column not in DESIRED_COLUMNS:\n",
    "        master_df.drop(column, inplace=True, axis=1)\n",
    "\n",
    "# re-order the relevant ones\n",
    "column_order = list(map(get_column_loc, DESIRED_COLUMNS))\n",
    "current_order = master_df.columns.tolist()\n",
    "final_order = [current_order[i] for i in column_order]\n",
    "master_df = master_df[final_order]\n",
    "\n",
    "# sort DataFrame\n",
    "master_df['Date'] = pd.to_datetime(master_df.Month)\n",
    "master_df.sort_values(by=SORT_KEYS, ignore_index=True, inplace=True)\n",
    "master_df.drop('Date', inplace=True, axis=1)\n",
    "\n",
    "# export to csv\n",
    "master_df.to_csv(CSV_NAME, index=False)"
   ]
  },
  {
   "cell_type": "markdown",
   "metadata": {},
   "source": [
    "## Clean up Working Directory"
   ]
  },
  {
   "cell_type": "code",
   "execution_count": null,
   "metadata": {},
   "outputs": [],
   "source": [
    "if REMOVE_CSV:\n",
    "    for i in name_list:\n",
    "        os.system('rm ' + i)\n",
    "os.system('rm csv_names.txt')"
   ]
  },
  {
   "cell_type": "markdown",
   "metadata": {},
   "source": [
    "# Credits"
   ]
  },
  {
   "cell_type": "markdown",
   "metadata": {},
   "source": [
    "* Created by Caleb Bitting"
   ]
  }
 ],
 "metadata": {
  "kernelspec": {
   "display_name": "Python 3",
   "language": "python",
   "name": "python3"
  },
  "language_info": {
   "codemirror_mode": {
    "name": "ipython",
    "version": 3
   },
   "file_extension": ".py",
   "mimetype": "text/x-python",
   "name": "python",
   "nbconvert_exporter": "python",
   "pygments_lexer": "ipython3",
   "version": "3.8.3"
  }
 },
 "nbformat": 4,
 "nbformat_minor": 4
}
